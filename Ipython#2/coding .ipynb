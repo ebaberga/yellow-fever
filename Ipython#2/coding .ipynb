{
 "cells": [
  {
   "cell_type": "markdown",
   "metadata": {
    "collapsed": false
   },
   "source": [
    "print ('go eden!')"
   ]
  },
  {
   "cell_type": "code",
   "execution_count": 2,
   "metadata": {
    "collapsed": false
   },
   "outputs": [
    {
     "name": "stdout",
     "output_type": "stream",
     "text": [
      "what is your name?eden\n"
     ]
    }
   ],
   "source": [
    "from math import *\n",
    "t= input('what is your name?')\n",
    "phylogeography is the best way you don't what to fall under the best things that has ever happened to you since life time of the world is the best things that can ever happen to you so be careful to the following notice and go to the places you want to go after all the best thing you want to do is be the best player in the history of human being and never go to the game unless you are the person you are talking about is alive and the best part of this sentence is to the best in all fields of science and go to the best goal keeper because he will tell you what you want to know about them in general terms I want to build a more general term to the following sentence and go the the best school ever to help you    build that relationship to go to the places on earth omg! you guys got married and I didn't know about this all along I think you are a very bad person ned go away I don't want to see your face again and never call me with my name because I have changed it long a go '"
   ]
  },
  {
   "cell_type": "code",
   "execution_count": null,
   "metadata": {
    "collapsed": true
   },
   "outputs": [],
   "source": []
  }
 ],
 "metadata": {
  "kernelspec": {
   "display_name": "Python 3",
   "language": "python",
   "name": "python3"
  },
  "language_info": {
   "codemirror_mode": {
    "name": "ipython",
    "version": 3
   },
   "file_extension": ".py",
   "mimetype": "text/x-python",
   "name": "python",
   "nbconvert_exporter": "python",
   "pygments_lexer": "ipython3",
   "version": "3.5.2"
  }
 },
 "nbformat": 4,
 "nbformat_minor": 1
}
