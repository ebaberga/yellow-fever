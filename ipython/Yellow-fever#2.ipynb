{
 "cells": [
  {
   "cell_type": "code",
   "execution_count": 11,
   "metadata": {
    "collapsed": false
   },
   "outputs": [
    {
     "name": "stdout",
     "output_type": "stream",
     "text": [
      "done. wrote 235 sequences to file.\n"
     ]
    }
   ],
   "source": [
    "from Bio import SeqIO # Biopython is great for parsing sequence files. Import the part we need (SeqIO).\n",
    "\n",
    "input = open('original.fasta', 'r') # Open your sequence file in read mode ('r'). Put the script.py and the input.fasta in the same directory.\n",
    "output = open('africa_newworld.fasta', 'w') # Open a file, named 'host_mtdna.fasta', in write mode ('w') to put the output.\n",
    "\n",
    "\n",
    "seqlist = [] # Empty list to hold the sequence objects\n",
    "\n",
    "\n",
    "for entry in SeqIO.parse(input, 'fasta'): # Parse each sequence in the input file; tell biopython to expect fasta format.\n",
    "\tseqlist.append(entry) # Add this sequence object to our list\n",
    "interestingCountries = [\"Algeria\",\"Angola\",\"Benin\",\"Botswana\",\"Burkina Faso\",\"Burundi\",\"Cabo Verden\",\"Cameroon \",\"Central African Republic (CAR)\",\"chad\",\n",
    "                        \"Comoros\",\"Democratic Republic of the Congo\",\"Republic of the Congo\",\"Cote d'Ivoire\",\"Djibouti\",\"Egypt\",\"Equatorial Guinea\",\"Ethiopia\",\"Eritrea\",\n",
    "                        \"Gabon\",\"Gambia\",\"Ghana\",\"Guinea\",\"Guinea-Bissau\",\"Kenya\",\"Lesotho\",\"Liberia\",\"Libya\",\"Madagascar\",\n",
    "                        \"Malawi\",\"Mali\",\"Mauritania\",\"Mauritius\",\"Morocco\",\"Mozambique\",\"Namibia\",\"Niger\",\"Nigeria\",\"Rwanda\",\n",
    "                        \"Sao Tome and Principe\",\"Senegal\",\"Seychelles\",\"Sierra Leone\",\"Somalia\",\"South Africa\",\"South Sudan\",\n",
    "                        \"Sudan\",\"Swaziland\",\"Tanzania\",\"Togo\",\"Tunisia\",\"Uganda\",\"Zambia\",\"Zimbabwe\",\"Brazil\",\"Venezuela\"]\n",
    "interestinghost =[\"Mosquito\", \"Human\", \"Monkey\", \"Unknown\"] # hosts I am interested in looking at.\n",
    "counter=0\n",
    "def interest_host_country(x,y):\n",
    "    if x in interestinghost and y in interestingCountries:\n",
    "        return 'match'\n",
    "\n",
    "\n",
    "        \n",
    "counter = 0 # Keep track of how many sequences matched\n",
    "for entry in seqlist: # Each sequence object has some attributes stored that we want to access. \n",
    "\n",
    "    data = entry.description  # This is an instance of `object.attribute` syntax; it will pull the sequence object, and look for the header attached to it\n",
    "#     print data\n",
    "    data = data.split('|') # accessionNumber|blah|blah|...|country|year --> [ accessionNumber, blah, blah, ..., country, year]\n",
    "#     print data\n",
    "    country = data[-2]# second from the end\n",
    "#     print country\n",
    "    \n",
    "    host= data[-4]\n",
    "#     print type(year)\n",
    "    \n",
    "    \n",
    "    answer = interest_host_country(host, country)\n",
    "    \n",
    "    if answer == 'match':\n",
    "        counter += 1\n",
    "        SeqIO.write(entry, output, 'fasta')\n",
    "    \n",
    "     \n",
    "print 'done. wrote ' + str(counter) + ' sequences to file.' # Print how many interesting sequences we found.     \n",
    "\n",
    "\n"
   ]
  },
  {
   "cell_type": "code",
   "execution_count": null,
   "metadata": {
    "collapsed": true
   },
   "outputs": [],
   "source": []
  },
  {
   "cell_type": "code",
   "execution_count": null,
   "metadata": {
    "collapsed": true
   },
   "outputs": [],
   "source": []
  }
 ],
 "metadata": {
  "kernelspec": {
   "display_name": "Python 3",
   "language": "python",
   "name": "python3"
  },
  "language_info": {
   "codemirror_mode": {
    "name": "ipython",
    "version": 3
   },
   "file_extension": ".py",
   "mimetype": "text/x-python",
   "name": "python",
   "nbconvert_exporter": "python",
   "pygments_lexer": "ipython3",
   "version": "3.5.2"
  }
 },
 "nbformat": 4,
 "nbformat_minor": 0
}
